{
  "nbformat": 4,
  "nbformat_minor": 0,
  "metadata": {
    "colab": {
      "provenance": [],
      "authorship_tag": "ABX9TyObANmbGqiBaeO5xyyORlmW",
      "include_colab_link": true
    },
    "kernelspec": {
      "name": "python3",
      "display_name": "Python 3"
    },
    "language_info": {
      "name": "python"
    }
  },
  "cells": [
    {
      "cell_type": "markdown",
      "metadata": {
        "id": "view-in-github",
        "colab_type": "text"
      },
      "source": [
        "<a href=\"https://colab.research.google.com/github/marce3-2140/numpy-exercises/blob/main/Panaderia.ipynb\" target=\"_parent\"><img src=\"https://colab.research.google.com/assets/colab-badge.svg\" alt=\"Open In Colab\"/></a>"
      ]
    },
    {
      "cell_type": "markdown",
      "source": [
        "Unos jovenes de un club de tecnologia les pide ayuda para analizar datos de su venta de pasteles. Esperan reunir $200\n",
        "\n",
        "Lista de Precios:\n",
        "\n",
        "```\n",
        "1.  $2 por un brownie\n",
        "2.  $1 por una galleta\n",
        "3.  $10 por un pastel\n",
        "```\n",
        "\n",
        "El club vende 17 brownies, 40 galletas y un pastel\n",
        "\n",
        "\n",
        "\n"
      ],
      "metadata": {
        "id": "MTBqecUfIhy2"
      }
    },
    {
      "cell_type": "code",
      "execution_count": null,
      "metadata": {
        "id": "0nuHVN4sIeer"
      },
      "outputs": [],
      "source": [
        "#Lista de precios\n",
        "price = [2, 1, 10]\n",
        "\n",
        "#lista de cantidades vendidas\n",
        "quantity_sold = [17, 40, 1]"
      ]
    },
    {
      "cell_type": "markdown",
      "source": [
        "Ahora, encontramos el dinero recaudado para cada tipo de elemento."
      ],
      "metadata": {
        "id": "iMiVLCPjMcXM"
      }
    },
    {
      "cell_type": "code",
      "source": [
        "import numpy as np"
      ],
      "metadata": {
        "id": "_ulpbpN-MumS"
      },
      "execution_count": null,
      "outputs": []
    },
    {
      "cell_type": "code",
      "source": [
        "#convertir una lista a un array de numpy\n",
        "\n",
        "price_array = np.array(price)\n",
        "quantity_sold_array = np.array(quantity_sold)"
      ],
      "metadata": {
        "id": "rxPlqJviMyU2"
      },
      "execution_count": null,
      "outputs": []
    },
    {
      "cell_type": "code",
      "source": [
        "#hacemos operaciones entre los array\n",
        "\n",
        "price_array * quantity_sold_array"
      ],
      "metadata": {
        "colab": {
          "base_uri": "https://localhost:8080/"
        },
        "id": "peY9t4tHNaf5",
        "outputId": "19f1b971-bbb2-423a-fd15-a0c2d9592dbd"
      },
      "execution_count": null,
      "outputs": [
        {
          "output_type": "execute_result",
          "data": {
            "text/plain": [
              "array([34, 40, 10])"
            ]
          },
          "metadata": {},
          "execution_count": 6
        }
      ]
    },
    {
      "cell_type": "markdown",
      "source": [
        "Ahora, revisemos los costos de fabricacion de cada elemento de la venta.\n",
        "\n",
        "\n",
        "```\n",
        "1. cada brownie cuesta hacerlo $0.25.\n",
        "2. Cada Galleta cuesta hacerlo $0.50\n",
        "3. Cada pastel cuesta hacerlo $5\n",
        "```"
      ],
      "metadata": {
        "id": "-bwJ9srcNwmz"
      }
    },
    {
      "cell_type": "code",
      "source": [
        "#hacemos una lista de los costos y la convertimos a array\n",
        "\n",
        "cost_array = np.array([0.25, 0.50, 5.00])"
      ],
      "metadata": {
        "id": "jz5Yu6UjOOV1"
      },
      "execution_count": null,
      "outputs": []
    },
    {
      "cell_type": "code",
      "source": [
        "#to find the profit of each ithem, we want to subtract the cost from the price.\n",
        "\n",
        "profit_array = price_array - cost_array\n",
        "print(profit_array)"
      ],
      "metadata": {
        "colab": {
          "base_uri": "https://localhost:8080/"
        },
        "id": "0N4X6Xg_Om43",
        "outputId": "2be43597-61ec-49da-b2a6-d0b5d90eaa5f"
      },
      "execution_count": null,
      "outputs": [
        {
          "output_type": "stream",
          "name": "stdout",
          "text": [
            "[1.75 0.5  5.  ]\n"
          ]
        }
      ]
    },
    {
      "cell_type": "code",
      "source": [
        "#Queremos identificar que elementos obtuvieron un beneficio superior a $2 por elemento.\n",
        "\n",
        "profit_array > 2"
      ],
      "metadata": {
        "colab": {
          "base_uri": "https://localhost:8080/"
        },
        "id": "DG-u0-T5PoKb",
        "outputId": "ab91aa49-5f6b-4fb5-9d4d-2bfce78a5e92"
      },
      "execution_count": null,
      "outputs": [
        {
          "output_type": "execute_result",
          "data": {
            "text/plain": [
              "array([False, False,  True])"
            ]
          },
          "metadata": {},
          "execution_count": 9
        }
      ]
    },
    {
      "cell_type": "code",
      "source": [
        "#agregamos un nuevo producto: tartas a $7, actualizamos el price_array\n",
        "\n",
        "price_array = np.append(price_array, 7)\n",
        "print(price_array)"
      ],
      "metadata": {
        "colab": {
          "base_uri": "https://localhost:8080/"
        },
        "id": "_zPLHlr4P2CC",
        "outputId": "66bd9e24-083a-415e-9723-1e6a52403d43"
      },
      "execution_count": null,
      "outputs": [
        {
          "output_type": "stream",
          "name": "stdout",
          "text": [
            "[ 2  1 10  7]\n"
          ]
        }
      ]
    },
    {
      "cell_type": "code",
      "source": [
        "#agregamos varios productos en una sola linea\n",
        "#$4.50 por dulces, $3 por una magdalena, $4 por una barra de pan de banano y $9 por una torta\n",
        "\n",
        "price_array = np.append(price_array, [4.50, 3, 4, 9])\n",
        "print(price_array)"
      ],
      "metadata": {
        "colab": {
          "base_uri": "https://localhost:8080/"
        },
        "id": "wBUlCODtQm41",
        "outputId": "4da95ce6-25e5-423f-b8ec-a2928e6ba66e"
      },
      "execution_count": null,
      "outputs": [
        {
          "output_type": "stream",
          "name": "stdout",
          "text": [
            "[ 2.   1.  10.   7.   4.5  3.   4.   9. ]\n"
          ]
        }
      ]
    },
    {
      "cell_type": "code",
      "source": [
        "print(price_array.dtype)"
      ],
      "metadata": {
        "colab": {
          "base_uri": "https://localhost:8080/"
        },
        "id": "nlTpyV-sRVSi",
        "outputId": "508e2a11-8aae-4254-857f-c8b830aa21f6"
      },
      "execution_count": null,
      "outputs": [
        {
          "output_type": "stream",
          "name": "stdout",
          "text": [
            "float64\n"
          ]
        }
      ]
    },
    {
      "cell_type": "code",
      "source": [
        "#queremos eliminar el precio de la torta con np.delete\n",
        "\n",
        "price_array = np.delete(price_array, -1)\n",
        "print(price_array)"
      ],
      "metadata": {
        "colab": {
          "base_uri": "https://localhost:8080/"
        },
        "id": "oRXs0l9URbA_",
        "outputId": "dd0ee555-bb65-4c96-bf3a-a50d3de65acf"
      },
      "execution_count": null,
      "outputs": [
        {
          "output_type": "stream",
          "name": "stdout",
          "text": [
            "[ 2.   1.  10.   7.   4.5  3.   4. ]\n"
          ]
        }
      ]
    },
    {
      "cell_type": "code",
      "source": [
        "#el club sube el precio de los pasteles de $10 a $12\n",
        "#identificamos que el indice de los pasteles esta en el indice 2.\n",
        "\n",
        "price_array[2] = 12\n",
        "print(price_array)"
      ],
      "metadata": {
        "colab": {
          "base_uri": "https://localhost:8080/"
        },
        "id": "KW9c_ijHRz57",
        "outputId": "d12e4436-f3cf-4178-9a69-f2d593bdc714"
      },
      "execution_count": null,
      "outputs": [
        {
          "output_type": "stream",
          "name": "stdout",
          "text": [
            "[ 2.   1.  12.   7.   4.5  3.   4. ]\n"
          ]
        }
      ]
    },
    {
      "cell_type": "markdown",
      "source": [
        "# Parte II del ejercicio\n",
        "\n",
        "**2. actualizamos quantity_sold_array para incluir a la venta:**\n",
        "\n",
        "\n",
        "**a).**  2 tartas, 3 bandejas de dulces,, 16 magdalenas y 5 panes de banano.\n",
        "\n",
        "\n",
        "**b).** de las galletas que pensaron que vendieron en realidad una se cayo al suelo\n",
        "    asi que editen quantity_sold de 40 a 39."
      ],
      "metadata": {
        "id": "KhM_L12CTPvp"
      }
    },
    {
      "cell_type": "code",
      "source": [
        "#agregamos otras ventas\n",
        "quantity_sold_array = np.append(quantity_sold_array, [2, 3, 16, 5])\n",
        "print(quantity_sold_array)"
      ],
      "metadata": {
        "colab": {
          "base_uri": "https://localhost:8080/"
        },
        "id": "xm8KwOIfSnpr",
        "outputId": "4bff49fe-297b-49bd-87d4-ed0e1bddadc8"
      },
      "execution_count": null,
      "outputs": [
        {
          "output_type": "stream",
          "name": "stdout",
          "text": [
            "[17 40  1  2  3 16  5]\n"
          ]
        }
      ]
    },
    {
      "cell_type": "code",
      "source": [
        "#modificamos la cantidad vendida de galletas restamos la que se cayo al suelo.\n",
        "quantity_sold_array[1] = 39\n",
        "print(quantity_sold_array)"
      ],
      "metadata": {
        "colab": {
          "base_uri": "https://localhost:8080/"
        },
        "id": "pZ7xh-GUU_BX",
        "outputId": "f2a84382-01dc-4e6c-8e1d-fb4755a8de6e"
      },
      "execution_count": null,
      "outputs": [
        {
          "output_type": "stream",
          "name": "stdout",
          "text": [
            "[17 39  1  2  3 16  5]\n"
          ]
        }
      ]
    },
    {
      "cell_type": "markdown",
      "source": [
        "**3. determinen la cantidad de dinero recaudado de la venta de cada elemento en la venta de la panaderia**"
      ],
      "metadata": {
        "id": "rKIb7s-zWDdQ"
      }
    },
    {
      "cell_type": "code",
      "source": [
        "#Determinamos la cantidad total de dinero de venta precio total\n",
        "\n",
        "venta_precio_total = quantity_sold_array * price_array\n",
        "print(venta_precio_total)"
      ],
      "metadata": {
        "colab": {
          "base_uri": "https://localhost:8080/"
        },
        "id": "lbpd-Al3VbSC",
        "outputId": "846cdbfc-0ccb-41e7-8724-e330fef49956"
      },
      "execution_count": null,
      "outputs": [
        {
          "output_type": "stream",
          "name": "stdout",
          "text": [
            "[34.  39.  12.  14.  13.5 48.  20. ]\n"
          ]
        }
      ]
    },
    {
      "cell_type": "markdown",
      "source": [
        "**4. Creen un array de Numpy \"quantity_leftover\" que incluya la cantidad de cada elemento restante al final de la venta:**\n",
        "\n",
        "1. 2 Pasteles\n",
        "2. 1 tarta\n",
        "3. 6 bandejas de dulces\n",
        "4. 2 panes de banano.\n",
        "\n",
        "Asegurese de incluir 0 de cada elemento que se haya vendido"
      ],
      "metadata": {
        "id": "_tDIehNDWiX6"
      }
    },
    {
      "cell_type": "code",
      "source": [
        "#Cantidad restante de cada elemento al final de la venta\n",
        "\n",
        "quantity_leftover = np.array([0, 0, 2, 1, 6, 0, 2])"
      ],
      "metadata": {
        "id": "WHLeChJXhW9X"
      },
      "execution_count": null,
      "outputs": []
    },
    {
      "cell_type": "code",
      "source": [
        "#Venta de liquidacion donde cada elemento lo venden a mitad de precio.\n",
        "venta_liquidacion = quantity_leftover*(price_array*0.5)\n",
        "print(venta_liquidacion)"
      ],
      "metadata": {
        "colab": {
          "base_uri": "https://localhost:8080/"
        },
        "id": "MjyTIMjZh9pb",
        "outputId": "d5334f86-2f1f-4598-f755-482d47284f4e"
      },
      "execution_count": null,
      "outputs": [
        {
          "output_type": "stream",
          "name": "stdout",
          "text": [
            "[ 0.   0.  12.   3.5 13.5  0.   4. ]\n"
          ]
        }
      ]
    },
    {
      "cell_type": "code",
      "source": [
        "#sumamos la venta de liquidacion con la venta del precio total\n",
        "venta_total = venta_liquidacion + venta_precio_total\n",
        "print(venta_total)"
      ],
      "metadata": {
        "colab": {
          "base_uri": "https://localhost:8080/"
        },
        "id": "tJD2PbI3PmZr",
        "outputId": "b9f0b25a-7a43-4d8f-eb6f-ce62e0092a5d"
      },
      "execution_count": null,
      "outputs": [
        {
          "output_type": "stream",
          "name": "stdout",
          "text": [
            "[34.  39.  24.  17.5 27.  48.  24. ]\n"
          ]
        }
      ]
    },
    {
      "cell_type": "code",
      "source": [
        "#Venta Total\n",
        "print(sum(venta_total))"
      ],
      "metadata": {
        "colab": {
          "base_uri": "https://localhost:8080/"
        },
        "id": "VKxbE8gWS0YL",
        "outputId": "4aeefb09-f54c-42d1-98c6-27c56f11e8dd"
      },
      "execution_count": null,
      "outputs": [
        {
          "output_type": "stream",
          "name": "stdout",
          "text": [
            "213.5\n"
          ]
        }
      ]
    }
  ]
}