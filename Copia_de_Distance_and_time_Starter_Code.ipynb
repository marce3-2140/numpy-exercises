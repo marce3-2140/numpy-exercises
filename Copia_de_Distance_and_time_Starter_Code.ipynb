{
  "nbformat": 4,
  "nbformat_minor": 0,
  "metadata": {
    "colab": {
      "provenance": [],
      "include_colab_link": true
    },
    "kernelspec": {
      "name": "python3",
      "display_name": "Python 3"
    },
    "language_info": {
      "name": "python"
    }
  },
  "cells": [
    {
      "cell_type": "markdown",
      "metadata": {
        "id": "view-in-github",
        "colab_type": "text"
      },
      "source": [
        "<a href=\"https://colab.research.google.com/github/marce3-2140/numpy-exercises/blob/main/Copia_de_Distance_and_time_Starter_Code.ipynb\" target=\"_parent\"><img src=\"https://colab.research.google.com/assets/colab-badge.svg\" alt=\"Open In Colab\"/></a>"
      ]
    },
    {
      "cell_type": "markdown",
      "source": [
        "**Lida Marcela Giraldo**"
      ],
      "metadata": {
        "id": "lr7lCZwJg_mY"
      }
    },
    {
      "cell_type": "markdown",
      "metadata": {
        "id": "FM-AQ_LY7Ec_"
      },
      "source": [
        "# Starter Code\n",
        "\n",
        "# Exploring NumPy Arrays: Distance and Time"
      ]
    },
    {
      "cell_type": "markdown",
      "metadata": {
        "id": "KFL-xYXw9hPp"
      },
      "source": [
        "1) Import the numpy library"
      ]
    },
    {
      "cell_type": "code",
      "metadata": {
        "id": "KfK86qGd6_sF"
      },
      "source": [
        "import numpy as np"
      ],
      "execution_count": 1,
      "outputs": []
    },
    {
      "cell_type": "markdown",
      "metadata": {
        "id": "t9qEeja29wDt"
      },
      "source": [
        "2) Create a numpy array called \"distance\" that includes the following distances (in meters): 100, 200, 400, 800, 1500, 3000, 5000, 10000"
      ]
    },
    {
      "cell_type": "code",
      "metadata": {
        "id": "yffkXrYSdvpt"
      },
      "source": [
        "distance = np.array([100, 200, 400, 800, 1500, 3000, 5000, 10000])"
      ],
      "execution_count": 2,
      "outputs": []
    },
    {
      "cell_type": "markdown",
      "metadata": {
        "id": "yJJj_-PS9-84"
      },
      "source": [
        "3) Use the np.min() and np.max() functions to find the minimum and maximum distances"
      ]
    },
    {
      "cell_type": "code",
      "metadata": {
        "id": "Cm0h775W7j1I",
        "colab": {
          "base_uri": "https://localhost:8080/"
        },
        "outputId": "eb5f57ba-bd29-4df1-e0eb-873d88636f89"
      },
      "source": [
        "print(np.min(distance))\n",
        "print(np.max(distance))"
      ],
      "execution_count": 3,
      "outputs": [
        {
          "output_type": "stream",
          "name": "stdout",
          "text": [
            "100\n",
            "10000\n"
          ]
        }
      ]
    },
    {
      "cell_type": "markdown",
      "metadata": {
        "id": "1GKAMKM4-D4n"
      },
      "source": [
        "4) To find the average distance, use the np.mean() function"
      ]
    },
    {
      "cell_type": "code",
      "metadata": {
        "id": "eMVVUS7D7qzi",
        "colab": {
          "base_uri": "https://localhost:8080/"
        },
        "outputId": "e9a2d881-68f6-4092-b4ba-4c29266c09b8"
      },
      "source": [
        "np.mean(distance)"
      ],
      "execution_count": 4,
      "outputs": [
        {
          "output_type": "execute_result",
          "data": {
            "text/plain": [
              "2625.0"
            ]
          },
          "metadata": {},
          "execution_count": 4
        }
      ]
    },
    {
      "cell_type": "markdown",
      "metadata": {
        "id": "jrsIZDBN-Lwg"
      },
      "source": [
        "5) use the np.sum() function to find the total distance"
      ]
    },
    {
      "cell_type": "code",
      "metadata": {
        "id": "hrlC2Z8Q7vFD",
        "colab": {
          "base_uri": "https://localhost:8080/"
        },
        "outputId": "054f63ec-44c9-4b08-ee13-cd3c706fdd35"
      },
      "source": [
        "np.sum(distance)"
      ],
      "execution_count": 5,
      "outputs": [
        {
          "output_type": "execute_result",
          "data": {
            "text/plain": [
              "21000"
            ]
          },
          "metadata": {},
          "execution_count": 5
        }
      ]
    },
    {
      "cell_type": "markdown",
      "metadata": {
        "id": "TZh6JLbu-Qt_"
      },
      "source": [
        "6) Another valuable function is the np.cumsum() function which outputs the cumulative sum...notice the output will be 100, 300, 700 as it adds each new distance"
      ]
    },
    {
      "cell_type": "code",
      "metadata": {
        "id": "zE035Xl574vz",
        "colab": {
          "base_uri": "https://localhost:8080/"
        },
        "outputId": "12149841-1504-4709-c5b0-c73775ffb100"
      },
      "source": [
        "np.cumsum(distance)"
      ],
      "execution_count": 6,
      "outputs": [
        {
          "output_type": "execute_result",
          "data": {
            "text/plain": [
              "array([  100,   300,   700,  1500,  3000,  6000, 11000, 21000])"
            ]
          },
          "metadata": {},
          "execution_count": 6
        }
      ]
    },
    {
      "cell_type": "markdown",
      "metadata": {
        "id": "XlxjutTF-XSf"
      },
      "source": [
        "7) To round all of the values in an array, use np.round()"
      ]
    },
    {
      "cell_type": "code",
      "metadata": {
        "id": "hrBA_Qqt8E3V",
        "colab": {
          "base_uri": "https://localhost:8080/"
        },
        "outputId": "754fb77a-fd76-49ae-80ed-f5423dfa0600"
      },
      "source": [
        "np.round(distance)"
      ],
      "execution_count": 7,
      "outputs": [
        {
          "output_type": "execute_result",
          "data": {
            "text/plain": [
              "array([  100,   200,   400,   800,  1500,  3000,  5000, 10000])"
            ]
          },
          "metadata": {},
          "execution_count": 7
        }
      ]
    },
    {
      "cell_type": "markdown",
      "metadata": {
        "id": "-wL-9Gl0-eSo"
      },
      "source": [
        "8) Create a numpy array called time that includes the following times (in seconds):  10.62, 21.34, 48.25, 113.43, 233.96, 506.53, 866.17, 1757.45"
      ]
    },
    {
      "cell_type": "code",
      "metadata": {
        "id": "KFwp2lb88KgE"
      },
      "source": [
        "time = np.array([10.62, 21.34, 48.25, 113.43, 233.96, 506.53, 866.17, 1757.45])"
      ],
      "execution_count": 8,
      "outputs": []
    },
    {
      "cell_type": "markdown",
      "metadata": {
        "id": "MFspcIAi-kJY"
      },
      "source": [
        "9) the values in your time array correspond to olympic records for running the corresponding distances.  Perform the calculation needed to find the speed (in m/s) for each record distance.  Note that speed is distance divided by time."
      ]
    },
    {
      "cell_type": "code",
      "metadata": {
        "id": "VacJ48K3-jwq",
        "colab": {
          "base_uri": "https://localhost:8080/"
        },
        "outputId": "a3d94906-5746-4ea2-9018-aaf32bf440cd"
      },
      "source": [
        "speed = distance/time #m/s\n",
        "speed_mps = np.array(speed)\n",
        "speed_mps"
      ],
      "execution_count": 26,
      "outputs": [
        {
          "output_type": "execute_result",
          "data": {
            "text/plain": [
              "array([9.41619586, 9.37207123, 8.29015544, 7.0528079 , 6.41135237,\n",
              "       5.92265019, 5.77253888, 5.69006231])"
            ]
          },
          "metadata": {},
          "execution_count": 26
        }
      ]
    },
    {
      "cell_type": "markdown",
      "metadata": {
        "id": "BRURQ2P3-oXv"
      },
      "source": [
        "10) One common problem data scientists run into is that we are given information in units that are not consistent.  \n",
        "For example, we might want to compare data that is given in meters to second to data that is given in miles per hour. A cheetah is the fastest land animal which can reach speeds of 75.0 miles per hour.  \n",
        "In order to compare our olympians to a cheetah, we need to be able to convert from one unit to another.\n",
        "Perform calculations to convert the olympic record speeds from meters/second into miles per hour.  Note: 1 meter = 0.00062 miles\n",
        "\n",
        "How do our olympians compare to the cheetah?\n",
        "\n",
        "(Hint: Speed in m/s multiplied by 0.00062 and multiplied by 3600 will give speed in miles per hour)"
      ]
    },
    {
      "cell_type": "code",
      "metadata": {
        "id": "8LehjzOx8YY0",
        "colab": {
          "base_uri": "https://localhost:8080/"
        },
        "outputId": "aa19f073-e4f1-41d4-a142-bdd233c39727"
      },
      "source": [
        "#convert from m/s to miles por hour\n",
        "speed_miles_per_hour = speed_mps*0.00062*3600\n",
        "speed_mph = np.array(speed_miles_per_hour)\n",
        "speed_mph"
      ],
      "execution_count": 28,
      "outputs": [
        {
          "output_type": "execute_result",
          "data": {
            "text/plain": [
              "array([21.01694915, 20.91846298, 18.50362694, 15.74186723, 14.31013849,\n",
              "       13.21935522, 12.88430678, 12.70021907])"
            ]
          },
          "metadata": {},
          "execution_count": 28
        }
      ]
    },
    {
      "cell_type": "code",
      "source": [
        "# Compare the Olympic record speeds to the cheetah's speed\n",
        "cheetah_speed = 75.0\n",
        "for i in speed_mph:\n",
        "  print(f\"for Olympians speed: {np.ceil(i).astype(int)} miles/hour is {np.ceil((i*100)/cheetah_speed).astype(int)} % of Cheetah's speed of 75.0 miles/hour\")\n"
      ],
      "metadata": {
        "colab": {
          "base_uri": "https://localhost:8080/"
        },
        "id": "Zwft2E9ML7xA",
        "outputId": "7b753f73-f7d3-47fc-a79b-be9bcf980600"
      },
      "execution_count": 38,
      "outputs": [
        {
          "output_type": "stream",
          "name": "stdout",
          "text": [
            "for Olympians speed: 22 miles/hour is 29 % of Cheetah's speed of 75.0 miles/hour\n",
            "for Olympians speed: 21 miles/hour is 28 % of Cheetah's speed of 75.0 miles/hour\n",
            "for Olympians speed: 19 miles/hour is 25 % of Cheetah's speed of 75.0 miles/hour\n",
            "for Olympians speed: 16 miles/hour is 21 % of Cheetah's speed of 75.0 miles/hour\n",
            "for Olympians speed: 15 miles/hour is 20 % of Cheetah's speed of 75.0 miles/hour\n",
            "for Olympians speed: 14 miles/hour is 18 % of Cheetah's speed of 75.0 miles/hour\n",
            "for Olympians speed: 13 miles/hour is 18 % of Cheetah's speed of 75.0 miles/hour\n",
            "for Olympians speed: 13 miles/hour is 17 % of Cheetah's speed of 75.0 miles/hour\n"
          ]
        }
      ]
    },
    {
      "cell_type": "code",
      "source": [
        "# Compare the Olympic record speeds to the cheetah's speed\n",
        "for i in speed_mph:\n",
        "  print(f\"for olympians speed = {np.ceil(i).astype(int)} miles/hour Cheetah's speed is {np.ceil(cheetah_speed /i).astype(int)} times faster\")"
      ],
      "metadata": {
        "colab": {
          "base_uri": "https://localhost:8080/"
        },
        "id": "hbWpV7xBW3QU",
        "outputId": "abd4cf76-aa9a-4f82-8545-a670f8620fc8"
      },
      "execution_count": 40,
      "outputs": [
        {
          "output_type": "stream",
          "name": "stdout",
          "text": [
            "for olympians speed = 22 miles/hour Cheetah's speed is 4 times faster\n",
            "for olympians speed = 21 miles/hour Cheetah's speed is 4 times faster\n",
            "for olympians speed = 19 miles/hour Cheetah's speed is 5 times faster\n",
            "for olympians speed = 16 miles/hour Cheetah's speed is 5 times faster\n",
            "for olympians speed = 15 miles/hour Cheetah's speed is 6 times faster\n",
            "for olympians speed = 14 miles/hour Cheetah's speed is 6 times faster\n",
            "for olympians speed = 13 miles/hour Cheetah's speed is 6 times faster\n",
            "for olympians speed = 13 miles/hour Cheetah's speed is 6 times faster\n"
          ]
        }
      ]
    },
    {
      "cell_type": "markdown",
      "source": [
        "These values indicate that the speed of the Cheetah is between 4 and 6 times faster than that of Olympic runners."
      ],
      "metadata": {
        "id": "h57Xjhv-d1b3"
      }
    }
  ]
}